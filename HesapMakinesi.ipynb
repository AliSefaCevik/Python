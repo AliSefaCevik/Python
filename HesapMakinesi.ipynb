{
 "cells": [
  {
   "cell_type": "code",
   "execution_count": 10,
   "id": "eff8e58d",
   "metadata": {},
   "outputs": [
    {
     "name": "stdout",
     "output_type": "stream",
     "text": [
      "İlk sayıyı giriniz :10\n",
      "İkinci sayıyı giriniz :20\n",
      "İşleminizi seçiniz :*\n"
     ]
    },
    {
     "data": {
      "text/plain": [
       "'10 * 20 = 200'"
      ]
     },
     "execution_count": 10,
     "metadata": {},
     "output_type": "execute_result"
    }
   ],
   "source": [
    "def hesapla(a,b,islem):\n",
    "    if islem == \"+\":\n",
    "        return (str(a)+\" + \"+str(b) + \" = \" + str(a+b))\n",
    "    if islem == \"-\":\n",
    "        return (str(a)+\" - \"+str(b) + \" = \" + str(a-b))\n",
    "    if islem == \"*\":\n",
    "        return (str(a)+\" * \"+str(b) + \" = \" + str(a*b))\n",
    "    if islem == \"/\":\n",
    "        return (str(a)+\" / \"+str(b) + \" = \" + str(a/b))\n",
    "a = int(input(\"İlk sayıyı giriniz :\"))\n",
    "b = int(input(\"İkinci sayıyı giriniz :\"))\n",
    "islem = input(\"İşleminizi seçiniz :\")\n",
    "hesapla(a,b,islem)\n"
   ]
  },
  {
   "cell_type": "code",
   "execution_count": 6,
   "id": "94b9cf43",
   "metadata": {},
   "outputs": [
    {
     "name": "stdout",
     "output_type": "stream",
     "text": [
      "İlk sayıyı giriniz :6\n",
      "İkinci sayıyı giriniz :7\n",
      "İşleminizi seçiniz :*\n",
      "Sonuç: 6 * 7 = 42\n",
      "Sonuç nesnesinin kapladığı bellek alanı: 59 bayt\n"
     ]
    }
   ],
   "source": [
    "import sys\n",
    "\n",
    "def hesapla(a,b,islem):\n",
    "    if islem == \"+\":\n",
    "        return (str(a)+\" + \"+str(b) + \" = \" + str(a+b))\n",
    "    if islem == \"-\":\n",
    "        return (str(a)+\" - \"+str(b) + \" = \" + str(a-b))\n",
    "    if islem == \"*\":\n",
    "        return (str(a)+\" * \"+str(b) + \" = \" + str(a*b))\n",
    "    if islem == \"/\":\n",
    "        return (str(a)+\" / \"+str(b) + \" = \" + str(a/b))\n",
    "\n",
    "a = int(input(\"İlk sayıyı giriniz :\"))\n",
    "b = int(input(\"İkinci sayıyı giriniz :\"))\n",
    "islem = input(\"İşleminizi seçiniz :\")\n",
    "sonuc = hesapla(a,b,islem)\n",
    "print(\"Sonuç:\", sonuc)\n",
    "print(\"Sonuç nesnesinin kapladığı bellek alanı:\", sys.getsizeof(sonuc), \"bayt\")"
   ]
  },
  {
   "cell_type": "code",
   "execution_count": null,
   "id": "cfa6f0c6",
   "metadata": {},
   "outputs": [
    {
     "name": "stdout",
     "output_type": "stream",
     "text": [
      "İlk sayıyı giriniz :7\n",
      "İkinci sayıyı giriniz :8\n",
      "İşleminizi seçiniz :/\n",
      "7 / 8 = 0.875\n"
     ]
    }
   ],
   "source": [
    "def hesapla(a,b,islem):\n",
    "    if islem not in \"+-*/\":\n",
    "        return \"Lütfen geçerli bir işlem seçiniz.\"\n",
    "    if islem == \"+\":\n",
    "        return (str(a)+\" + \"+str(b) + \" = \" + str(a+b))\n",
    "    if islem == \"-\":\n",
    "        return (str(a)+\" - \"+str(b) + \" = \" + str(a-b))\n",
    "    if islem == \"*\":\n",
    "        return (str(a)+\" * \"+str(b) + \" = \" + str(a*b))\n",
    "    if islem == \"/\":\n",
    "        return (str(a)+\" / \"+str(b) + \" = \" + str(a/b))\n",
    "while True:\n",
    "    try:\n",
    "        a = int(input(\"İlk sayıyı giriniz :\"))\n",
    "        b = int(input(\"İkinci sayıyı giriniz :\"))\n",
    "        islem = input(\"İşleminizi seçiniz :\")\n",
    "        print(hesapla(a,b,islem))\n",
    "    except:\n",
    "        print(\"Lütfen geçerli sayı giriniz.\")\n"
   ]
  },
  {
   "cell_type": "code",
   "execution_count": null,
   "id": "d3364f3a",
   "metadata": {},
   "outputs": [],
   "source": []
  }
 ],
 "metadata": {
  "kernelspec": {
   "display_name": "Python 3 (ipykernel)",
   "language": "python",
   "name": "python3"
  },
  "language_info": {
   "codemirror_mode": {
    "name": "ipython",
    "version": 3
   },
   "file_extension": ".py",
   "mimetype": "text/x-python",
   "name": "python",
   "nbconvert_exporter": "python",
   "pygments_lexer": "ipython3",
   "version": "3.9.13"
  }
 },
 "nbformat": 4,
 "nbformat_minor": 5
}
